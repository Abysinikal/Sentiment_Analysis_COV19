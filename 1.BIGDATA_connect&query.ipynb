{
 "cells": [
  {
   "cell_type": "markdown",
   "metadata": {},
   "source": [
    "# Connecting and exploring big data on mongodb\n",
    "## Connecting to Mongo DB atlas    "
   ]
  },
  {
   "cell_type": "code",
   "execution_count": null,
   "metadata": {},
   "outputs": [],
   "source": [
    "#Connect to cluster\n",
    "import pandas as pd\n",
    "from pymongo import MongoClient\n",
    "connection_string = \"mongodb+srv://#CREDENTIALS#\"\n",
    "client = MongoClient(connection_string)\n",
    "\n"
   ]
  },
  {
   "cell_type": "markdown",
   "metadata": {},
   "source": [
    "## Getting server status "
   ]
  },
  {
   "cell_type": "code",
   "execution_count": null,
   "metadata": {},
   "outputs": [],
   "source": [
    "with client :\n",
    "    db = client.tweet_db\n",
    "    status = db.command(\"serverStatus\")\n",
    "    stats = db.command(\"dbstats\")\n",
    "    print(status)\n",
    "    print(stats)"
   ]
  },
  {
   "cell_type": "markdown",
   "metadata": {},
   "source": [
    "# Different types of queries to Mongo DB atlas\n",
    "## Getting list of collections of a database"
   ]
  },
  {
   "cell_type": "code",
   "execution_count": null,
   "metadata": {},
   "outputs": [],
   "source": [
    "with client :   \n",
    "    print(db.list_collection_names())"
   ]
  },
  {
   "cell_type": "markdown",
   "metadata": {},
   "source": [
    "## Query documents"
   ]
  },
  {
   "cell_type": "code",
   "execution_count": null,
   "metadata": {},
   "outputs": [],
   "source": [
    "with client:\n",
    "    tweets = db.tweet_collection.find()\n",
    "\n",
    "    print(tweets.next())\n",
    "    print(tweets.next())  \n"
   ]
  },
  {
   "cell_type": "markdown",
   "metadata": {},
   "source": [
    "## Query documents with filter and limit on data output"
   ]
  },
  {
   "cell_type": "code",
   "execution_count": null,
   "metadata": {},
   "outputs": [],
   "source": [
    "with client:\n",
    "      \n",
    "    myquery = { \"user_location\": \"Toulouse, FR\" }\n",
    "    tweets = db.tweet_collection.find(myquery).limit(10)\n",
    "    for tweet in tweets:\n",
    "        print(tweet)"
   ]
  },
  {
   "cell_type": "markdown",
   "metadata": {},
   "source": [
    "## Count documents "
   ]
  },
  {
   "cell_type": "code",
   "execution_count": null,
   "metadata": {},
   "outputs": [],
   "source": [
    "with client:      \n",
    "\n",
    "    tweets = db.tweet_collection.find().count()\n",
    "    print(\"There are {} tweets\".format(tweets))\n",
    "    "
   ]
  },
  {
   "cell_type": "markdown",
   "metadata": {},
   "source": [
    "## Export dataframe to csv"
   ]
  },
  {
   "cell_type": "code",
   "execution_count": null,
   "metadata": {},
   "outputs": [],
   "source": [
    "with client :\n",
    "    tweets = db.tweet_collection.find()\n",
    "    df= pd.DataFrame(list(tweets))\n",
    "    df.to_csv('exported.csv',index=False)\n",
    "    "
   ]
  },
  {
   "cell_type": "code",
   "execution_count": null,
   "metadata": {},
   "outputs": [],
   "source": [
    "\n"
   ]
  },
  {
   "cell_type": "code",
   "execution_count": null,
   "metadata": {},
   "outputs": [],
   "source": []
  }
 ],
 "metadata": {
  "kernelspec": {
   "display_name": "Python 3",
   "language": "python",
   "name": "python3"
  },
  "language_info": {
   "codemirror_mode": {
    "name": "ipython",
    "version": 3
   },
   "file_extension": ".py",
   "mimetype": "text/x-python",
   "name": "python",
   "nbconvert_exporter": "python",
   "pygments_lexer": "ipython3",
   "version": "3.7.7"
  }
 },
 "nbformat": 4,
 "nbformat_minor": 4
}
